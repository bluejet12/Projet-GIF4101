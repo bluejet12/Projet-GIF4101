{
 "cells": [
  {
   "cell_type": "code",
   "execution_count": null,
   "metadata": {},
   "outputs": [],
   "source": [
    "from matplotlib import pyplot as plt\n",
    "import sweetviz as sv\n",
    "import seaborn as sns\n",
    "import pandas as pd\n",
    "import numpy as np\n",
    "\n",
    "from helper_functions import plot_density_graph"
   ]
  },
  {
   "attachments": {},
   "cell_type": "markdown",
   "metadata": {},
   "source": [
    "# Import files"
   ]
  },
  {
   "cell_type": "code",
   "execution_count": null,
   "metadata": {},
   "outputs": [],
   "source": [
    "df = pd.read_csv(\"data//original_cleaned_nyc_taxi_data_2018.csv\")\n",
    "df_geo = pd.read_csv(\"data//taxi_zone_geo.csv\")"
   ]
  },
  {
   "attachments": {},
   "cell_type": "markdown",
   "metadata": {},
   "source": [
    "# Data cleaning"
   ]
  },
  {
   "cell_type": "code",
   "execution_count": null,
   "metadata": {},
   "outputs": [],
   "source": [
    "# Merging the geo dataset to get the pickup & dropoff boroughts\n",
    "df = pd.merge(\n",
    "    df,\n",
    "    df_geo[['zone_id', 'borough']],\n",
    "    how='left',\n",
    "    left_on='pickup_location_id',\n",
    "    right_on='zone_id'\n",
    ")\n",
    "\n",
    "df.rename(columns={'borough': 'pickup_borough'}, inplace=True)\n",
    "df = df.drop(columns=['zone_id'])\n",
    "\n",
    "df = pd.merge(\n",
    "    df,\n",
    "    df_geo[['zone_id', 'borough']],\n",
    "    how='left',\n",
    "    left_on='dropoff_location_id',\n",
    "    right_on='zone_id'\n",
    ")\n",
    "\n",
    "df.rename(columns={'borough': 'dropoff_borough'}, inplace=True)\n",
    "df = df.drop(columns=['zone_id'])\n",
    "\n",
    "df = df[df['pickup_borough'].notna()]\n",
    "df = df[df['dropoff_borough'].notna()]"
   ]
  },
  {
   "cell_type": "code",
   "execution_count": null,
   "metadata": {},
   "outputs": [],
   "source": [
    "# Create a field for the tip%\n",
    "df = df[df['total_amount'] != df['calculated_total_amount']]\n",
    "df['tip_percent'] = df[\"tip_amount\"] / df[\"fare_amount\"]\n",
    "\n",
    "# Create the target field\n",
    "df['tip_percent_class'] = np.nan\n",
    "df.tip_percent_class = np.where(df.tip_percent.between(0, 0.1, inclusive='left'), 0, df.tip_percent_class)\n",
    "df.tip_percent_class = np.where(df.tip_percent.between(0.1, 0.2, inclusive='left'), 1, df.tip_percent_class)\n",
    "df.tip_percent_class = np.where(df.tip_percent.between(0.2, 0.3, inclusive='left'), 2, df.tip_percent_class)\n",
    "df.tip_percent_class = np.where(df.tip_percent.between(0.3, 0.4, inclusive='left'), 3, df.tip_percent_class)\n",
    "df.tip_percent_class = np.where(df.tip_percent.between(0.4, 100_000, inclusive='left'), 4, df.tip_percent_class)\n",
    "\n",
    "# Temporary dataframe\n",
    "df_pct = df.copy\n",
    "\n",
    "# Droping columns\n",
    "df = df.drop(columns=[\n",
    "    'Unnamed: 0', 'year', 'calculated_total_amount',\n",
    "    'imp_surcharge', 'payment_type', 'store_and_fwd_flag',\n",
    "    'tip_amount'#, 'tip_percent'\n",
    "])\n",
    "\n",
    "# Creating a dataframe with only 500K to save time for some validations\n",
    "df_short = df.head(500_000)"
   ]
  },
  {
   "cell_type": "code",
   "execution_count": null,
   "metadata": {},
   "outputs": [],
   "source": [
    "# Density graph for 'tip_percent'\n",
    "plot_density_graph(df_short, 'tip_percent', quantile_upper=0.95)"
   ]
  },
  {
   "cell_type": "code",
   "execution_count": null,
   "metadata": {},
   "outputs": [],
   "source": [
    "# Validating nan\n",
    "df.isna().sum().sum()"
   ]
  },
  {
   "attachments": {},
   "cell_type": "markdown",
   "metadata": {},
   "source": [
    "# EDA"
   ]
  },
  {
   "cell_type": "code",
   "execution_count": null,
   "metadata": {},
   "outputs": [],
   "source": [
    "# Show correlation matrix\n",
    "corr = df.corr()\n",
    "\n",
    "fig, ax = plt.subplots(figsize=(10,10))\n",
    "\n",
    "ax = sns.heatmap(\n",
    "    round(corr, 2),\n",
    "    cmap='YlGnBu',\n",
    "    annot=True,\n",
    "    linewidths=0.5\n",
    ")"
   ]
  },
  {
   "cell_type": "code",
   "execution_count": null,
   "metadata": {},
   "outputs": [],
   "source": [
    "# Show density graph (KDE) for numeric fields\n",
    "var_list = [\n",
    "    'trip_distance', 'fare_amount', 'tolls_amount',\n",
    "    'total_amount', 'pickup_location_id', 'dropoff_location_id',\n",
    "    'trip_duration'\n",
    "]\n",
    "\n",
    "for var in var_list:\n",
    "    plot_density_graph(df_short, var, 'tip_percent_class', 0.95)"
   ]
  },
  {
   "attachments": {},
   "cell_type": "markdown",
   "metadata": {},
   "source": [
    "# SweetViz report"
   ]
  },
  {
   "cell_type": "code",
   "execution_count": null,
   "metadata": {},
   "outputs": [],
   "source": [
    "feature_config = sv.FeatureConfig(force_num = ['tip_percent_class'])\n",
    "sv_report = sv.analyze(df_short, target_feat='tip_percent_class', feat_cfg=feature_config)\n",
    "sv_report.show_html()"
   ]
  }
 ],
 "metadata": {
  "kernelspec": {
   "display_name": "Python 3",
   "language": "python",
   "name": "python3"
  },
  "language_info": {
   "codemirror_mode": {
    "name": "ipython",
    "version": 3
   },
   "file_extension": ".py",
   "mimetype": "text/x-python",
   "name": "python",
   "nbconvert_exporter": "python",
   "pygments_lexer": "ipython3",
   "version": "3.9.13"
  },
  "orig_nbformat": 4,
  "vscode": {
   "interpreter": {
    "hash": "2cadc1feae70eaac1e68f90e3557f792f1498664cbb658d0f7eb7b3d94759317"
   }
  }
 },
 "nbformat": 4,
 "nbformat_minor": 2
}
